{
 "cells": [
  {
   "cell_type": "code",
   "execution_count": null,
   "id": "3afba75d",
   "metadata": {},
   "outputs": [],
   "source": [
    "\"\"\"\n",
    "!pip3 install pywhatkit\n",
    "print(\"done\")\n",
    "____________________________________\n",
    "import pywhatkit as kt\n",
    "____________________________________\n",
    "give=input(str(\"Give name of actor: \"))\n",
    "mov=\"movies\"\n",
    "finl_inp=give+' '+mov\n",
    "#print(finl_inp)\n",
    "sd=kt.search(finl_inp)\n",
    "sd\n",
    "\n",
    "\"\"\""
   ]
  },
  {
   "cell_type": "markdown",
   "id": "0ccef61c",
   "metadata": {},
   "source": [
    "# install Dependencies"
   ]
  },
  {
   "cell_type": "code",
   "execution_count": null,
   "id": "62c76526",
   "metadata": {},
   "outputs": [],
   "source": [
    "!pip3 install google\n",
    "!pip3 install requests\n",
    "!pip3 install bs4"
   ]
  },
  {
   "cell_type": "code",
   "execution_count": null,
   "id": "ec6b1887",
   "metadata": {},
   "outputs": [],
   "source": [
    "import requests\n",
    "from bs4 import BeautifulSoup"
   ]
  },
  {
   "cell_type": "code",
   "execution_count": null,
   "id": "fd8d064b",
   "metadata": {},
   "outputs": [],
   "source": [
    "### Final ###\n",
    "from googlesearch import search\n",
    "\n",
    "ip=str(input('give name of actor: '))   #\"Salman Khan\"\n",
    "for i in search(ip, stop=10):\n",
    "    if i.endswith(\"_filmography\"):\n",
    "        URL=i\n",
    "\n",
    "        print(URL)        \n"
   ]
  },
  {
   "cell_type": "code",
   "execution_count": null,
   "id": "de4db45d",
   "metadata": {},
   "outputs": [],
   "source": [
    "r=requests.get(URL)\n",
    "bsoup=BeautifulSoup(r.text,\"html.parser\")\n",
    "bsoup.tittle\n"
   ]
  },
  {
   "cell_type": "code",
   "execution_count": null,
   "id": "0362a172",
   "metadata": {},
   "outputs": [],
   "source": [
    "res2=bsoup.find_all('a',href=True)\n",
    "results=bsoup.find_all('table',attrs={'class':\"wikitable unsortable plainrowheaders\"})\n",
    "len(results)\n"
   ]
  },
  {
   "cell_type": "code",
   "execution_count": null,
   "id": "6aea86f5",
   "metadata": {},
   "outputs": [],
   "source": [
    "results=bsoup.find_all('table',attrs={'class':\"wikitable plainrowheaders sortable\"})\n",
    "results\n",
    "\n",
    "#class=\"wikitable plainrowheaders sortable jquery-tablesorter\""
   ]
  },
  {
   "cell_type": "code",
   "execution_count": null,
   "id": "82ac65ff",
   "metadata": {},
   "outputs": [],
   "source": [
    "lost=[]\n",
    "for i in results:\n",
    "    k=i.find_all(\"i\")\n",
    "    for j in k:\n",
    "        lost.append(j.text)\n"
   ]
  },
  {
   "cell_type": "code",
   "execution_count": null,
   "id": "7c04c669",
   "metadata": {},
   "outputs": [],
   "source": [
    "desc=list(reversed(lost))\n",
    "desc"
   ]
  },
  {
   "cell_type": "code",
   "execution_count": null,
   "id": "244ed6cb",
   "metadata": {},
   "outputs": [],
   "source": []
  },
  {
   "cell_type": "code",
   "execution_count": null,
   "id": "da4cbdf6",
   "metadata": {},
   "outputs": [],
   "source": []
  },
  {
   "cell_type": "code",
   "execution_count": null,
   "id": "02e30913",
   "metadata": {},
   "outputs": [],
   "source": []
  }
 ],
 "metadata": {
  "kernelspec": {
   "display_name": "Python 3 (ipykernel)",
   "language": "python",
   "name": "python3"
  },
  "language_info": {
   "codemirror_mode": {
    "name": "ipython",
    "version": 3
   },
   "file_extension": ".py",
   "mimetype": "text/x-python",
   "name": "python",
   "nbconvert_exporter": "python",
   "pygments_lexer": "ipython3",
   "version": "3.9.13"
  }
 },
 "nbformat": 4,
 "nbformat_minor": 5
}
